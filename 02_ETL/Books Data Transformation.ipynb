{
 "cells": [
  {
   "cell_type": "markdown",
   "metadata": {},
   "source": [
    "---\n",
    "\n",
    "<img src=\"https://i.ibb.co/f2KxQM7/ETL-PIC-1.png\" alt=\"extract-transform-load-picture\" height=500px>\n",
    "\n",
    "---"
   ]
  },
  {
   "cell_type": "markdown",
   "metadata": {},
   "source": [
    "# Analyzing Books - ETL\n",
    "\n",
    "In order to analyze and visualize the scraped data, first we need to clean and transform it into a suitable form. In this notebook, we'll be reviewing the scraped data and perform the necessary transformations."
   ]
  },
  {
   "cell_type": "markdown",
   "metadata": {},
   "source": [
    "## Imports and Setup\n",
    "\n",
    "Before moving on to data transformation; we need to perform the following things:\n",
    "\n",
    "- Importing and configuring necessary modules to perform data cleaning and transformations\n",
    "- Importing and configuring the dataset upon which we need to work"
   ]
  },
  {
   "cell_type": "markdown",
   "metadata": {},
   "source": [
    "### Module Imports & Settings\n",
    "\n",
    "We need to import and configure _NumPy_, _Pandas_ and _Warnings_ module to perform the data cleansing and transformation"
   ]
  },
  {
   "cell_type": "code",
   "execution_count": 1,
   "metadata": {},
   "outputs": [],
   "source": [
    "# Imports\n",
    "# =======\n",
    "\n",
    "import numpy as np\n",
    "import pandas as pd\n",
    "import warnings\n",
    "\n",
    "# Module Settings\n",
    "# ================\n",
    "\n",
    "warnings.filterwarnings(\"ignore\")"
   ]
  },
  {
   "cell_type": "markdown",
   "metadata": {},
   "source": [
    "### Data Import\n",
    "\n",
    "Let's import the scraped dataset to perform data cleaning and transformation"
   ]
  },
  {
   "cell_type": "code",
   "execution_count": 2,
   "metadata": {},
   "outputs": [],
   "source": [
    "# Import\n",
    "# ======\n",
    "\n",
    "scraped_data = pd.read_csv(\"../01_SCRAPER/scraped_data.csv\", index_col=False)"
   ]
  },
  {
   "cell_type": "markdown",
   "metadata": {},
   "source": [
    "#### Checking Data Snippet\n",
    "\n",
    "Let's check how the first few records of the dataset looks like"
   ]
  },
  {
   "cell_type": "code",
   "execution_count": 3,
   "metadata": {},
   "outputs": [
    {
     "data": {
      "text/html": [
       "<div>\n",
       "<style scoped>\n",
       "    .dataframe tbody tr th:only-of-type {\n",
       "        vertical-align: middle;\n",
       "    }\n",
       "\n",
       "    .dataframe tbody tr th {\n",
       "        vertical-align: top;\n",
       "    }\n",
       "\n",
       "    .dataframe thead th {\n",
       "        text-align: right;\n",
       "    }\n",
       "</style>\n",
       "<table border=\"1\" class=\"dataframe\">\n",
       "  <thead>\n",
       "    <tr style=\"text-align: right;\">\n",
       "      <th></th>\n",
       "      <th>title</th>\n",
       "      <th>genre</th>\n",
       "      <th>price</th>\n",
       "      <th>star_rating</th>\n",
       "      <th>stock_availability</th>\n",
       "      <th>book_image</th>\n",
       "      <th>last_updated_at_UTC</th>\n",
       "    </tr>\n",
       "  </thead>\n",
       "  <tbody>\n",
       "    <tr>\n",
       "      <th>0</th>\n",
       "      <td>It's Only the Himalayas</td>\n",
       "      <td>Travel</td>\n",
       "      <td>45.17</td>\n",
       "      <td>Two</td>\n",
       "      <td>In stock</td>\n",
       "      <td>https://books.toscrape.com/media/cache/27/a5/2...</td>\n",
       "      <td>07-Jun-2022 14:24:47</td>\n",
       "    </tr>\n",
       "    <tr>\n",
       "      <th>1</th>\n",
       "      <td>Full Moon over Noah’s Ark: An Odyssey to Mount...</td>\n",
       "      <td>Travel</td>\n",
       "      <td>49.43</td>\n",
       "      <td>Four</td>\n",
       "      <td>In stock</td>\n",
       "      <td>https://books.toscrape.com/media/cache/57/77/5...</td>\n",
       "      <td>07-Jun-2022 14:24:47</td>\n",
       "    </tr>\n",
       "    <tr>\n",
       "      <th>2</th>\n",
       "      <td>See America: A Celebration of Our National Par...</td>\n",
       "      <td>Travel</td>\n",
       "      <td>48.87</td>\n",
       "      <td>Three</td>\n",
       "      <td>In stock</td>\n",
       "      <td>https://books.toscrape.com/media/cache/9a/7e/9...</td>\n",
       "      <td>07-Jun-2022 14:24:47</td>\n",
       "    </tr>\n",
       "    <tr>\n",
       "      <th>3</th>\n",
       "      <td>Vagabonding: An Uncommon Guide to the Art of L...</td>\n",
       "      <td>Travel</td>\n",
       "      <td>36.94</td>\n",
       "      <td>Two</td>\n",
       "      <td>In stock</td>\n",
       "      <td>https://books.toscrape.com/media/cache/d5/bf/d...</td>\n",
       "      <td>07-Jun-2022 14:24:47</td>\n",
       "    </tr>\n",
       "    <tr>\n",
       "      <th>4</th>\n",
       "      <td>Under the Tuscan Sun</td>\n",
       "      <td>Travel</td>\n",
       "      <td>37.33</td>\n",
       "      <td>Three</td>\n",
       "      <td>In stock</td>\n",
       "      <td>https://books.toscrape.com/media/cache/98/c2/9...</td>\n",
       "      <td>07-Jun-2022 14:24:47</td>\n",
       "    </tr>\n",
       "    <tr>\n",
       "      <th>5</th>\n",
       "      <td>A Summer In Europe</td>\n",
       "      <td>Travel</td>\n",
       "      <td>44.34</td>\n",
       "      <td>Two</td>\n",
       "      <td>In stock</td>\n",
       "      <td>https://books.toscrape.com/media/cache/4e/15/4...</td>\n",
       "      <td>07-Jun-2022 14:24:47</td>\n",
       "    </tr>\n",
       "    <tr>\n",
       "      <th>6</th>\n",
       "      <td>The Great Railway Bazaar</td>\n",
       "      <td>Travel</td>\n",
       "      <td>30.54</td>\n",
       "      <td>One</td>\n",
       "      <td>In stock</td>\n",
       "      <td>https://books.toscrape.com/media/cache/76/de/7...</td>\n",
       "      <td>07-Jun-2022 14:24:47</td>\n",
       "    </tr>\n",
       "    <tr>\n",
       "      <th>7</th>\n",
       "      <td>A Year in Provence (Provence #1)</td>\n",
       "      <td>Travel</td>\n",
       "      <td>56.88</td>\n",
       "      <td>Four</td>\n",
       "      <td>In stock</td>\n",
       "      <td>https://books.toscrape.com/media/cache/db/46/d...</td>\n",
       "      <td>07-Jun-2022 14:24:47</td>\n",
       "    </tr>\n",
       "    <tr>\n",
       "      <th>8</th>\n",
       "      <td>The Road to Little Dribbling: Adventures of an...</td>\n",
       "      <td>Travel</td>\n",
       "      <td>23.21</td>\n",
       "      <td>One</td>\n",
       "      <td>In stock</td>\n",
       "      <td>https://books.toscrape.com/media/cache/e0/4f/e...</td>\n",
       "      <td>07-Jun-2022 14:24:47</td>\n",
       "    </tr>\n",
       "    <tr>\n",
       "      <th>9</th>\n",
       "      <td>Neither Here nor There: Travels in Europe</td>\n",
       "      <td>Travel</td>\n",
       "      <td>38.95</td>\n",
       "      <td>Three</td>\n",
       "      <td>In stock</td>\n",
       "      <td>https://books.toscrape.com/media/cache/06/81/0...</td>\n",
       "      <td>07-Jun-2022 14:24:47</td>\n",
       "    </tr>\n",
       "  </tbody>\n",
       "</table>\n",
       "</div>"
      ],
      "text/plain": [
       "                                               title   genre  price  \\\n",
       "0                            It's Only the Himalayas  Travel  45.17   \n",
       "1  Full Moon over Noah’s Ark: An Odyssey to Mount...  Travel  49.43   \n",
       "2  See America: A Celebration of Our National Par...  Travel  48.87   \n",
       "3  Vagabonding: An Uncommon Guide to the Art of L...  Travel  36.94   \n",
       "4                               Under the Tuscan Sun  Travel  37.33   \n",
       "5                                 A Summer In Europe  Travel  44.34   \n",
       "6                           The Great Railway Bazaar  Travel  30.54   \n",
       "7                   A Year in Provence (Provence #1)  Travel  56.88   \n",
       "8  The Road to Little Dribbling: Adventures of an...  Travel  23.21   \n",
       "9          Neither Here nor There: Travels in Europe  Travel  38.95   \n",
       "\n",
       "  star_rating stock_availability  \\\n",
       "0         Two           In stock   \n",
       "1        Four           In stock   \n",
       "2       Three           In stock   \n",
       "3         Two           In stock   \n",
       "4       Three           In stock   \n",
       "5         Two           In stock   \n",
       "6         One           In stock   \n",
       "7        Four           In stock   \n",
       "8         One           In stock   \n",
       "9       Three           In stock   \n",
       "\n",
       "                                          book_image   last_updated_at_UTC  \n",
       "0  https://books.toscrape.com/media/cache/27/a5/2...  07-Jun-2022 14:24:47  \n",
       "1  https://books.toscrape.com/media/cache/57/77/5...  07-Jun-2022 14:24:47  \n",
       "2  https://books.toscrape.com/media/cache/9a/7e/9...  07-Jun-2022 14:24:47  \n",
       "3  https://books.toscrape.com/media/cache/d5/bf/d...  07-Jun-2022 14:24:47  \n",
       "4  https://books.toscrape.com/media/cache/98/c2/9...  07-Jun-2022 14:24:47  \n",
       "5  https://books.toscrape.com/media/cache/4e/15/4...  07-Jun-2022 14:24:47  \n",
       "6  https://books.toscrape.com/media/cache/76/de/7...  07-Jun-2022 14:24:47  \n",
       "7  https://books.toscrape.com/media/cache/db/46/d...  07-Jun-2022 14:24:47  \n",
       "8  https://books.toscrape.com/media/cache/e0/4f/e...  07-Jun-2022 14:24:47  \n",
       "9  https://books.toscrape.com/media/cache/06/81/0...  07-Jun-2022 14:24:47  "
      ]
     },
     "execution_count": 3,
     "metadata": {},
     "output_type": "execute_result"
    }
   ],
   "source": [
    "scraped_data.head(10)"
   ]
  },
  {
   "cell_type": "markdown",
   "metadata": {},
   "source": [
    "#### Checking Data Fields\n",
    "\n",
    "Let's check what fields we have in the dataset"
   ]
  },
  {
   "cell_type": "code",
   "execution_count": 4,
   "metadata": {},
   "outputs": [
    {
     "data": {
      "text/plain": [
       "['title',\n",
       " 'genre',\n",
       " 'price',\n",
       " 'star_rating',\n",
       " 'stock_availability',\n",
       " 'book_image',\n",
       " 'last_updated_at_UTC']"
      ]
     },
     "execution_count": 4,
     "metadata": {},
     "output_type": "execute_result"
    }
   ],
   "source": [
    "list(scraped_data.columns)"
   ]
  },
  {
   "cell_type": "markdown",
   "metadata": {},
   "source": [
    "#### Metadata Information\n",
    "\n",
    "The fields in the dataset can be defined as follows:\n",
    "\n",
    "- **title** : Title of the book\n",
    "- **genre** : Genre of the book\n",
    "- **price** : Price of the book in Euros(£)\n",
    "- **star_rating** : Rating of book out of 5\n",
    "- **stock_availability** : Availability status of the book\n",
    "- **book_image** : Image URL of the book\n",
    "- **last_updated_at_UTC** : Latest UTC timestamp of item scraped"
   ]
  },
  {
   "cell_type": "markdown",
   "metadata": {},
   "source": [
    "## Exploratory Analysis\n",
    "\n",
    "In exploratory analysis we want to explore the dataset to find out what transformation we need to perform on the scraped dataset"
   ]
  },
  {
   "cell_type": "markdown",
   "metadata": {},
   "source": [
    "### Data Profiling\n",
    "\n",
    "In data profiling, we'll review the shape and structure of the dataset to figure out anomalies like outliers, missing values, etc. in the dataset that needs to be addressed in the data cleaning process"
   ]
  },
  {
   "cell_type": "markdown",
   "metadata": {},
   "source": [
    "#### Shape of Dataset\n",
    "\n",
    "Let's check the structure of the dataset"
   ]
  },
  {
   "cell_type": "code",
   "execution_count": 5,
   "metadata": {},
   "outputs": [
    {
     "data": {
      "text/plain": [
       "(1000, 7)"
      ]
     },
     "execution_count": 5,
     "metadata": {},
     "output_type": "execute_result"
    }
   ],
   "source": [
    "scraped_data.shape"
   ]
  },
  {
   "cell_type": "markdown",
   "metadata": {},
   "source": [
    "we have 1000 records with 7 fields in the dataset"
   ]
  },
  {
   "cell_type": "markdown",
   "metadata": {},
   "source": [
    "#### Basic Info of Dataset\n",
    "\n",
    "Let's see an overview of the dataset and draw some insights"
   ]
  },
  {
   "cell_type": "code",
   "execution_count": 6,
   "metadata": {},
   "outputs": [
    {
     "name": "stdout",
     "output_type": "stream",
     "text": [
      "<class 'pandas.core.frame.DataFrame'>\n",
      "RangeIndex: 1000 entries, 0 to 999\n",
      "Data columns (total 7 columns):\n",
      " #   Column               Non-Null Count  Dtype  \n",
      "---  ------               --------------  -----  \n",
      " 0   title                1000 non-null   object \n",
      " 1   genre                1000 non-null   object \n",
      " 2   price                1000 non-null   float64\n",
      " 3   star_rating          1000 non-null   object \n",
      " 4   stock_availability   1000 non-null   object \n",
      " 5   book_image           1000 non-null   object \n",
      " 6   last_updated_at_UTC  1000 non-null   object \n",
      "dtypes: float64(1), object(6)\n",
      "memory usage: 54.8+ KB\n"
     ]
    }
   ],
   "source": [
    "scraped_data.info()"
   ]
  },
  {
   "cell_type": "markdown",
   "metadata": {},
   "source": [
    "There are no missing record in the dataset and it has 6 string and 1 numeric field"
   ]
  },
  {
   "cell_type": "markdown",
   "metadata": {},
   "source": [
    "***💡 INSIGHT 💡***\n",
    "\n",
    "The columns that we want to keep as it is in terms of data transformation are:\n",
    "\n",
    "- title\n",
    "- genre\n",
    "- price\n",
    "- book_image\n",
    "- last_updated_at_UTC\n",
    "\n",
    "The transformations that we would like to have in `star_rating` column are as follows:\n",
    "\n",
    "- Changing the ratings into their corresponding numeric value\n",
    "- Changing the data type from `object` to `int16`\n",
    "\n",
    "The transformation that we would like to have in `stock_availability` column are as follows:\n",
    "\n",
    "- Changing the response to _\"Yes\"_ and _\"No\"_"
   ]
  },
  {
   "cell_type": "markdown",
   "metadata": {},
   "source": [
    "#### Checking Unique Values in `star_rating` Column\n",
    "\n",
    "Let's find out what are the unique values present in the `star_rating` column"
   ]
  },
  {
   "cell_type": "code",
   "execution_count": 7,
   "metadata": {},
   "outputs": [
    {
     "data": {
      "text/plain": [
       "['Two', 'Four', 'Three', 'One', 'Five']"
      ]
     },
     "execution_count": 7,
     "metadata": {},
     "output_type": "execute_result"
    }
   ],
   "source": [
    "list(scraped_data[\"star_rating\"].unique())"
   ]
  },
  {
   "cell_type": "markdown",
   "metadata": {},
   "source": [
    "There 5 unique values in `star_rating` column"
   ]
  },
  {
   "cell_type": "markdown",
   "metadata": {},
   "source": [
    "#### Checking Unique Values in `stock_availability` Column\n",
    "\n",
    "Let's find out what are the unique values present in the `stock_availability` column"
   ]
  },
  {
   "cell_type": "code",
   "execution_count": 8,
   "metadata": {},
   "outputs": [
    {
     "data": {
      "text/plain": [
       "['In stock']"
      ]
     },
     "execution_count": 8,
     "metadata": {},
     "output_type": "execute_result"
    }
   ],
   "source": [
    "list(scraped_data[\"stock_availability\"].unique())"
   ]
  },
  {
   "cell_type": "markdown",
   "metadata": {},
   "source": [
    "There is just a single value in the `stock_availability` column"
   ]
  },
  {
   "cell_type": "markdown",
   "metadata": {},
   "source": [
    "### Action Items\n",
    "\n",
    "Based on our observations, we have to perform the following data transformations:\n",
    "\n",
    "- Changing the ratings into their corresponding numeric value for `star_rating` column\n",
    "- Changing the response to _\"Yes\"_ and _\"No\"_ for `stock_availability` column\n",
    "- Changing the data type of `star_rating` column from `object` to `int`\n",
    "- Renaming existing fields\n",
    "- Adding an index column to the dataset"
   ]
  },
  {
   "cell_type": "markdown",
   "metadata": {},
   "source": [
    "## Data Transformation\n",
    "\n",
    "In this stage, we'll address each of the action items that we've received from the previous stage to clean and transform the dataset"
   ]
  },
  {
   "cell_type": "markdown",
   "metadata": {},
   "source": [
    "### Conditional Replacement\n",
    "\n",
    "We need to replace the values of `star_rating` and `stock_availability` columns based on certain conditons"
   ]
  },
  {
   "cell_type": "markdown",
   "metadata": {},
   "source": [
    "### Replacing `star_rating` Values\n",
    "\n",
    "As we have multiple conditions to replace the column values, so, we'll be using `np.select()` method"
   ]
  },
  {
   "cell_type": "code",
   "execution_count": 9,
   "metadata": {},
   "outputs": [
    {
     "data": {
      "text/plain": [
       "[2, 4, 3, 1, 5]"
      ]
     },
     "execution_count": 9,
     "metadata": {},
     "output_type": "execute_result"
    }
   ],
   "source": [
    "\n",
    "## Defining existing and replacement values\n",
    "## ========================================\n",
    "\n",
    "conditions = [\n",
    "    scraped_data['star_rating'] == 'One',\n",
    "    scraped_data['star_rating'] == 'Two',\n",
    "    scraped_data['star_rating'] == 'Three',\n",
    "    scraped_data['star_rating'] == 'Four',\n",
    "    scraped_data['star_rating'] == 'Five'\n",
    "]\n",
    "\n",
    "results = [1, 2, 3, 4, 5]\n",
    "\n",
    "## Applying conditions\n",
    "## ====================\n",
    "\n",
    "scraped_data['star_rating'] = np.select(conditions, results)\n",
    "\n",
    "\n",
    "## Viewing the unique values post replacement\n",
    "## ===========================================\n",
    "\n",
    "list(scraped_data['star_rating'].unique())"
   ]
  },
  {
   "cell_type": "markdown",
   "metadata": {},
   "source": [
    "#### Replacing `stock_availability` \n",
    "\n",
    "Since, we can only have two types of value in the `stock_availability` column, so, we can leverage the list comprehension method here"
   ]
  },
  {
   "cell_type": "code",
   "execution_count": 10,
   "metadata": {},
   "outputs": [
    {
     "data": {
      "text/plain": [
       "['Yes']"
      ]
     },
     "execution_count": 10,
     "metadata": {},
     "output_type": "execute_result"
    }
   ],
   "source": [
    "## Replacing values with list comprehension\n",
    "## ========================================\n",
    "\n",
    "scraped_data['stock_availability'] = ['Yes' if x == 'In stock' else 'No' for x in scraped_data['stock_availability'] ]\n",
    "\n",
    "## Viewing the unique values post replacement\n",
    "## ===========================================\n",
    "\n",
    "list(scraped_data['stock_availability'].unique())"
   ]
  },
  {
   "cell_type": "markdown",
   "metadata": {},
   "source": [
    "### Changing Datatype"
   ]
  },
  {
   "cell_type": "markdown",
   "metadata": {},
   "source": [
    "#### Changing Datatype of `star_rating` Column\n",
    "\n",
    "Let's change the datatype of `star_rating` column from `object` to `int`"
   ]
  },
  {
   "cell_type": "code",
   "execution_count": 11,
   "metadata": {},
   "outputs": [
    {
     "data": {
      "text/plain": [
       "dtype('int32')"
      ]
     },
     "execution_count": 11,
     "metadata": {},
     "output_type": "execute_result"
    }
   ],
   "source": [
    "## Changing datatype of column\n",
    "## ============================\n",
    "\n",
    "scraped_data['star_rating'] = scraped_data['star_rating'].astype(int)\n",
    "\n",
    "## Checking datatype after change\n",
    "## ==============================\n",
    "\n",
    "scraped_data['star_rating'].dtypes"
   ]
  },
  {
   "cell_type": "markdown",
   "metadata": {},
   "source": [
    "### Renaming Fields\n",
    "\n",
    "Let's provide appropriate naming to the fields in the dataset "
   ]
  },
  {
   "cell_type": "code",
   "execution_count": 12,
   "metadata": {},
   "outputs": [],
   "source": [
    "## Defining new field names\n",
    "## =========================\n",
    "\n",
    "new_column_names = [\n",
    "    'Title',\n",
    "    'Genre',\n",
    "    'Price (£)',\n",
    "    'Rating',\n",
    "    'Stock Availability Status',\n",
    "    'Cover Page',\n",
    "    'Last Update Timestamp (UTC)'\n",
    "]\n",
    "\n",
    "## Assigning new fields names to dataset\n",
    "## =====================================\n",
    "\n",
    "scraped_data.columns = new_column_names"
   ]
  },
  {
   "cell_type": "markdown",
   "metadata": {},
   "source": [
    "#### Checking New Field Names\n",
    "\n",
    "Let's check the field names post rename"
   ]
  },
  {
   "cell_type": "code",
   "execution_count": 13,
   "metadata": {},
   "outputs": [
    {
     "data": {
      "text/plain": [
       "['Title',\n",
       " 'Genre',\n",
       " 'Price (£)',\n",
       " 'Rating',\n",
       " 'Stock Availability Status',\n",
       " 'Cover Page',\n",
       " 'Last Update Timestamp (UTC)']"
      ]
     },
     "execution_count": 13,
     "metadata": {},
     "output_type": "execute_result"
    }
   ],
   "source": [
    "list(scraped_data.columns)"
   ]
  },
  {
   "cell_type": "markdown",
   "metadata": {},
   "source": [
    "### Index Column Addition\n",
    "\n",
    "Let's add an index column that will uniquely identify each record in the dataset"
   ]
  },
  {
   "cell_type": "code",
   "execution_count": 14,
   "metadata": {},
   "outputs": [],
   "source": [
    "## Creating custom index column\n",
    "## ============================\n",
    "\n",
    "custom_index_col = pd.RangeIndex(start=1000, stop=1000+len(scraped_data), step=1, name='BookID')\n",
    "\n",
    "## Adding index column\n",
    "## ===================\n",
    "\n",
    "scraped_data.index = custom_index_col\n",
    "scraped_data.index = 'B' + scraped_data.index.astype('string')"
   ]
  },
  {
   "cell_type": "markdown",
   "metadata": {},
   "source": [
    "### Transform Data Review\n",
    "\n",
    "As we have completed all the required data transformation, let's review the transformed dataset once prior to export"
   ]
  },
  {
   "cell_type": "markdown",
   "metadata": {},
   "source": [
    "#### Checking Data Snippet\n",
    "\n",
    "Let's check how the first few records of the dataset looks like"
   ]
  },
  {
   "cell_type": "code",
   "execution_count": 15,
   "metadata": {},
   "outputs": [
    {
     "data": {
      "text/html": [
       "<div>\n",
       "<style scoped>\n",
       "    .dataframe tbody tr th:only-of-type {\n",
       "        vertical-align: middle;\n",
       "    }\n",
       "\n",
       "    .dataframe tbody tr th {\n",
       "        vertical-align: top;\n",
       "    }\n",
       "\n",
       "    .dataframe thead th {\n",
       "        text-align: right;\n",
       "    }\n",
       "</style>\n",
       "<table border=\"1\" class=\"dataframe\">\n",
       "  <thead>\n",
       "    <tr style=\"text-align: right;\">\n",
       "      <th></th>\n",
       "      <th>Title</th>\n",
       "      <th>Genre</th>\n",
       "      <th>Price (£)</th>\n",
       "      <th>Rating</th>\n",
       "      <th>Stock Availability Status</th>\n",
       "      <th>Cover Page</th>\n",
       "      <th>Last Update Timestamp (UTC)</th>\n",
       "    </tr>\n",
       "    <tr>\n",
       "      <th>BookID</th>\n",
       "      <th></th>\n",
       "      <th></th>\n",
       "      <th></th>\n",
       "      <th></th>\n",
       "      <th></th>\n",
       "      <th></th>\n",
       "      <th></th>\n",
       "    </tr>\n",
       "  </thead>\n",
       "  <tbody>\n",
       "    <tr>\n",
       "      <th>B1000</th>\n",
       "      <td>It's Only the Himalayas</td>\n",
       "      <td>Travel</td>\n",
       "      <td>45.17</td>\n",
       "      <td>2</td>\n",
       "      <td>Yes</td>\n",
       "      <td>https://books.toscrape.com/media/cache/27/a5/2...</td>\n",
       "      <td>07-Jun-2022 14:24:47</td>\n",
       "    </tr>\n",
       "    <tr>\n",
       "      <th>B1001</th>\n",
       "      <td>Full Moon over Noah’s Ark: An Odyssey to Mount...</td>\n",
       "      <td>Travel</td>\n",
       "      <td>49.43</td>\n",
       "      <td>4</td>\n",
       "      <td>Yes</td>\n",
       "      <td>https://books.toscrape.com/media/cache/57/77/5...</td>\n",
       "      <td>07-Jun-2022 14:24:47</td>\n",
       "    </tr>\n",
       "    <tr>\n",
       "      <th>B1002</th>\n",
       "      <td>See America: A Celebration of Our National Par...</td>\n",
       "      <td>Travel</td>\n",
       "      <td>48.87</td>\n",
       "      <td>3</td>\n",
       "      <td>Yes</td>\n",
       "      <td>https://books.toscrape.com/media/cache/9a/7e/9...</td>\n",
       "      <td>07-Jun-2022 14:24:47</td>\n",
       "    </tr>\n",
       "    <tr>\n",
       "      <th>B1003</th>\n",
       "      <td>Vagabonding: An Uncommon Guide to the Art of L...</td>\n",
       "      <td>Travel</td>\n",
       "      <td>36.94</td>\n",
       "      <td>2</td>\n",
       "      <td>Yes</td>\n",
       "      <td>https://books.toscrape.com/media/cache/d5/bf/d...</td>\n",
       "      <td>07-Jun-2022 14:24:47</td>\n",
       "    </tr>\n",
       "    <tr>\n",
       "      <th>B1004</th>\n",
       "      <td>Under the Tuscan Sun</td>\n",
       "      <td>Travel</td>\n",
       "      <td>37.33</td>\n",
       "      <td>3</td>\n",
       "      <td>Yes</td>\n",
       "      <td>https://books.toscrape.com/media/cache/98/c2/9...</td>\n",
       "      <td>07-Jun-2022 14:24:47</td>\n",
       "    </tr>\n",
       "  </tbody>\n",
       "</table>\n",
       "</div>"
      ],
      "text/plain": [
       "                                                    Title   Genre  Price (£)  \\\n",
       "BookID                                                                         \n",
       "B1000                             It's Only the Himalayas  Travel      45.17   \n",
       "B1001   Full Moon over Noah’s Ark: An Odyssey to Mount...  Travel      49.43   \n",
       "B1002   See America: A Celebration of Our National Par...  Travel      48.87   \n",
       "B1003   Vagabonding: An Uncommon Guide to the Art of L...  Travel      36.94   \n",
       "B1004                                Under the Tuscan Sun  Travel      37.33   \n",
       "\n",
       "        Rating Stock Availability Status  \\\n",
       "BookID                                     \n",
       "B1000        2                       Yes   \n",
       "B1001        4                       Yes   \n",
       "B1002        3                       Yes   \n",
       "B1003        2                       Yes   \n",
       "B1004        3                       Yes   \n",
       "\n",
       "                                               Cover Page  \\\n",
       "BookID                                                      \n",
       "B1000   https://books.toscrape.com/media/cache/27/a5/2...   \n",
       "B1001   https://books.toscrape.com/media/cache/57/77/5...   \n",
       "B1002   https://books.toscrape.com/media/cache/9a/7e/9...   \n",
       "B1003   https://books.toscrape.com/media/cache/d5/bf/d...   \n",
       "B1004   https://books.toscrape.com/media/cache/98/c2/9...   \n",
       "\n",
       "       Last Update Timestamp (UTC)  \n",
       "BookID                              \n",
       "B1000         07-Jun-2022 14:24:47  \n",
       "B1001         07-Jun-2022 14:24:47  \n",
       "B1002         07-Jun-2022 14:24:47  \n",
       "B1003         07-Jun-2022 14:24:47  \n",
       "B1004         07-Jun-2022 14:24:47  "
      ]
     },
     "execution_count": 15,
     "metadata": {},
     "output_type": "execute_result"
    }
   ],
   "source": [
    "scraped_data.head()"
   ]
  },
  {
   "cell_type": "markdown",
   "metadata": {},
   "source": [
    "#### Basic Info of Dataset\n",
    "Let's see an overview of the dataset before exporting"
   ]
  },
  {
   "cell_type": "code",
   "execution_count": 16,
   "metadata": {},
   "outputs": [
    {
     "name": "stdout",
     "output_type": "stream",
     "text": [
      "<class 'pandas.core.frame.DataFrame'>\n",
      "Index: 1000 entries, B1000 to B1999\n",
      "Data columns (total 7 columns):\n",
      " #   Column                       Non-Null Count  Dtype  \n",
      "---  ------                       --------------  -----  \n",
      " 0   Title                        1000 non-null   object \n",
      " 1   Genre                        1000 non-null   object \n",
      " 2   Price (£)                    1000 non-null   float64\n",
      " 3   Rating                       1000 non-null   int32  \n",
      " 4   Stock Availability Status    1000 non-null   object \n",
      " 5   Cover Page                   1000 non-null   object \n",
      " 6   Last Update Timestamp (UTC)  1000 non-null   object \n",
      "dtypes: float64(1), int32(1), object(5)\n",
      "memory usage: 58.6+ KB\n"
     ]
    }
   ],
   "source": [
    "scraped_data.info()"
   ]
  },
  {
   "cell_type": "markdown",
   "metadata": {},
   "source": [
    "## Data Export\n",
    "\n",
    "Let's export the clean dataset into a CSV file for data analysis and visualization"
   ]
  },
  {
   "cell_type": "code",
   "execution_count": 17,
   "metadata": {},
   "outputs": [],
   "source": [
    "scraped_data.to_csv(\"../03_DATA/books_data.csv\", encoding='utf-8', index_label='BookID')"
   ]
  },
  {
   "cell_type": "markdown",
   "metadata": {},
   "source": [
    "This concludes the ETL process on the books dataset."
   ]
  }
 ],
 "metadata": {
  "kernelspec": {
   "display_name": "Python 3 (ipykernel)",
   "language": "python",
   "name": "python3"
  },
  "language_info": {
   "codemirror_mode": {
    "name": "ipython",
    "version": 3
   },
   "file_extension": ".py",
   "mimetype": "text/x-python",
   "name": "python",
   "nbconvert_exporter": "python",
   "pygments_lexer": "ipython3",
   "version": "3.8.5"
  },
  "toc": {
   "base_numbering": 1,
   "nav_menu": {},
   "number_sections": false,
   "sideBar": true,
   "skip_h1_title": false,
   "title_cell": "Table of Contents",
   "title_sidebar": "Contents",
   "toc_cell": false,
   "toc_position": {},
   "toc_section_display": true,
   "toc_window_display": true
  },
  "vscode": {
   "interpreter": {
    "hash": "6f5583cf1d9466b5c27e75c89cc6b383bed5736d6b16c51c8074d8690011a952"
   }
  }
 },
 "nbformat": 4,
 "nbformat_minor": 2
}
