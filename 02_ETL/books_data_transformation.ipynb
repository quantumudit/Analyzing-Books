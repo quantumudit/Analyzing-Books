{
 "cells": [
  {
   "cell_type": "markdown",
   "metadata": {},
   "source": [
    "---\n",
    "\n",
    "<img src=\"../06_RESOURCES/books_data_transformation.png\" alt=\"books_data_transformation-picture\" height=500px>\n",
    "\n",
    "---"
   ]
  },
  {
   "cell_type": "markdown",
   "metadata": {},
   "source": [
    "# Books Data Transformation\n",
    "\n",
    "[![Open In Colab](https://colab.research.google.com/assets/colab-badge.svg)](https://colab.research.google.com/github/quantumudit/Analyzing-Books/blob/master/02_ETL/Books%20Data%20Transformation.ipynb)\n",
    "[![Binder](https://mybinder.org/badge_logo.svg)](https://mybinder.org/v2/gh/quantumudit/Analyzing-Books/master?labpath=02_ETL/Books%20Data%20Transformation.ipynb)"
   ]
  },
  {
   "cell_type": "markdown",
   "metadata": {},
   "source": [
    "## Introduction\n",
    "\n",
    "In this notebook, we will be importing, cleaning, transforming and exporting a dataset obtained from the website [Books to Scrape](https://books.toscrape.com/). \n",
    "\n",
    "The purpose of this notebook is to clean the raw data and make it ready for analysis and visualization. The data source provides information on various books such as the book title, genre, availability in stock, price, and star ratings.\n",
    "\n",
    "The scope of the cleaning operations includes reviewing the data, identifying and fixing any issues, changing the data types, addition of a custom index, and transforming the data as required. Finally, we will validate the data and export it to a CSV file for further analysis and visualization."
   ]
  },
  {
   "cell_type": "markdown",
   "metadata": {},
   "source": [
    "## Imports & Setup\n",
    "\n",
    "In the section, we will be importing the necessary libraries for data cleaning and transformation in the books dataset.\n",
    "\n",
    "This will include popular data analysis libraries such as `pandas` and `numpy` and we will also be importing the scraped books dataset for data cleaning and transformation.\n",
    "\n",
    "Moreover, we will also be setting any necessary configurations or options that will be used throughout the notebook."
   ]
  },
  {
   "cell_type": "markdown",
   "metadata": {},
   "source": [
    "### Module Import & Setup\n",
    "\n",
    "We will be importing the following libraries and modules:\n",
    "\n",
    "- `pandas`: for loading, manipulating, and analyzing the dataset\n",
    "- `numpy`: for performing numerical operations on the dataset\n",
    "- `warnings`: for handling any warning that may occur during the execution of the code\n",
    "\n",
    "We will also be setting any necessary configurations or options that will be used throughout the notebook, such as setting the display options for `pandas` dataframes. In addition, we'll be ignoring any warning that may appear during the execution of the notebook.\n",
    "\n",
    "We are also importing helper functions from the **\"helper_functions.py\"** file that includes various functions help us to keep our code organized and reusable."
   ]
  },
  {
   "cell_type": "code",
   "execution_count": 1,
   "metadata": {},
   "outputs": [],
   "source": [
    "# imports\n",
    "import numpy as np\n",
    "import pandas as pd\n",
    "import warnings\n",
    "\n",
    "# import helper functions\n",
    "from helper_functions import dataframe_structure, dict_to_table, datatype_details\n",
    "\n",
    "# module setup\n",
    "%matplotlib inline\n",
    "pd.options.display.precision = 5\n",
    "warnings.filterwarnings(\"ignore\")"
   ]
  },
  {
   "cell_type": "markdown",
   "metadata": {},
   "source": [
    "### Data Import\n",
    "\n",
    "Now, we will be importing the scraped books dataset from the directory using the `pandas` library. The `read_csv()` method is used to get the data from the CSV file. Moreover, we'll making a deep copy of the dataframe for working."
   ]
  },
  {
   "cell_type": "code",
   "execution_count": 2,
   "metadata": {},
   "outputs": [
    {
     "data": {
      "text/html": [
       "<div>\n",
       "<style scoped>\n",
       "    .dataframe tbody tr th:only-of-type {\n",
       "        vertical-align: middle;\n",
       "    }\n",
       "\n",
       "    .dataframe tbody tr th {\n",
       "        vertical-align: top;\n",
       "    }\n",
       "\n",
       "    .dataframe thead th {\n",
       "        text-align: right;\n",
       "    }\n",
       "</style>\n",
       "<table border=\"1\" class=\"dataframe\">\n",
       "  <thead>\n",
       "    <tr style=\"text-align: right;\">\n",
       "      <th></th>\n",
       "      <th>title</th>\n",
       "      <th>genre</th>\n",
       "      <th>price</th>\n",
       "      <th>star_rating</th>\n",
       "      <th>stock_availability</th>\n",
       "      <th>book_image</th>\n",
       "      <th>last_updated_at_UTC</th>\n",
       "    </tr>\n",
       "  </thead>\n",
       "  <tbody>\n",
       "    <tr>\n",
       "      <th>0</th>\n",
       "      <td>It's Only the Himalayas</td>\n",
       "      <td>Travel</td>\n",
       "      <td>45.17</td>\n",
       "      <td>Two</td>\n",
       "      <td>In stock</td>\n",
       "      <td>https://books.toscrape.com/media/cache/27/a5/2...</td>\n",
       "      <td>18-Jun-2022 19:04:35</td>\n",
       "    </tr>\n",
       "    <tr>\n",
       "      <th>1</th>\n",
       "      <td>Full Moon over Noah’s Ark: An Odyssey to Mount...</td>\n",
       "      <td>Travel</td>\n",
       "      <td>49.43</td>\n",
       "      <td>Four</td>\n",
       "      <td>In stock</td>\n",
       "      <td>https://books.toscrape.com/media/cache/57/77/5...</td>\n",
       "      <td>18-Jun-2022 19:04:35</td>\n",
       "    </tr>\n",
       "    <tr>\n",
       "      <th>2</th>\n",
       "      <td>See America: A Celebration of Our National Par...</td>\n",
       "      <td>Travel</td>\n",
       "      <td>48.87</td>\n",
       "      <td>Three</td>\n",
       "      <td>In stock</td>\n",
       "      <td>https://books.toscrape.com/media/cache/9a/7e/9...</td>\n",
       "      <td>18-Jun-2022 19:04:35</td>\n",
       "    </tr>\n",
       "    <tr>\n",
       "      <th>3</th>\n",
       "      <td>Vagabonding: An Uncommon Guide to the Art of L...</td>\n",
       "      <td>Travel</td>\n",
       "      <td>36.94</td>\n",
       "      <td>Two</td>\n",
       "      <td>In stock</td>\n",
       "      <td>https://books.toscrape.com/media/cache/d5/bf/d...</td>\n",
       "      <td>18-Jun-2022 19:04:35</td>\n",
       "    </tr>\n",
       "    <tr>\n",
       "      <th>4</th>\n",
       "      <td>Under the Tuscan Sun</td>\n",
       "      <td>Travel</td>\n",
       "      <td>37.33</td>\n",
       "      <td>Three</td>\n",
       "      <td>In stock</td>\n",
       "      <td>https://books.toscrape.com/media/cache/98/c2/9...</td>\n",
       "      <td>18-Jun-2022 19:04:35</td>\n",
       "    </tr>\n",
       "  </tbody>\n",
       "</table>\n",
       "</div>"
      ],
      "text/plain": [
       "                                               title   genre  price  \\\n",
       "0                            It's Only the Himalayas  Travel  45.17   \n",
       "1  Full Moon over Noah’s Ark: An Odyssey to Mount...  Travel  49.43   \n",
       "2  See America: A Celebration of Our National Par...  Travel  48.87   \n",
       "3  Vagabonding: An Uncommon Guide to the Art of L...  Travel  36.94   \n",
       "4                               Under the Tuscan Sun  Travel  37.33   \n",
       "\n",
       "  star_rating stock_availability  \\\n",
       "0         Two           In stock   \n",
       "1        Four           In stock   \n",
       "2       Three           In stock   \n",
       "3         Two           In stock   \n",
       "4       Three           In stock   \n",
       "\n",
       "                                          book_image   last_updated_at_UTC  \n",
       "0  https://books.toscrape.com/media/cache/27/a5/2...  18-Jun-2022 19:04:35  \n",
       "1  https://books.toscrape.com/media/cache/57/77/5...  18-Jun-2022 19:04:35  \n",
       "2  https://books.toscrape.com/media/cache/9a/7e/9...  18-Jun-2022 19:04:35  \n",
       "3  https://books.toscrape.com/media/cache/d5/bf/d...  18-Jun-2022 19:04:35  \n",
       "4  https://books.toscrape.com/media/cache/98/c2/9...  18-Jun-2022 19:04:35  "
      ]
     },
     "execution_count": 2,
     "metadata": {},
     "output_type": "execute_result"
    }
   ],
   "source": [
    "# import data from csv\n",
    "scraped_books_df = pd.read_csv(\"../01_SCRAPER/scraped_data.csv\", index_col=False)\n",
    "\n",
    "# create a copy of it for working\n",
    "books = scraped_books_df.copy(deep=True)\n",
    "\n",
    "# view the glimpse of the dataframe\n",
    "books.head()"
   ]
  },
  {
   "cell_type": "markdown",
   "metadata": {},
   "source": [
    "With the successful import of the data and necessary libraries, we can now proceed to the data overview section for a comprehensive understanding of the dataset."
   ]
  },
  {
   "cell_type": "markdown",
   "metadata": {},
   "source": [
    "## Data Overview\n",
    "\n",
    "In this section, we'll delve into the specifics of the data and gain a better understanding of the structure and quality of the data we have received. \n",
    "\n",
    "This analysis will include a comprehensive evaluation of the number of rows and columns in the data, the types of variables present, and any initial observations about the data's structure and quality. We'll also perform duplicate checks to identify any duplicate records in the data.\n",
    "\n",
    "This analysis will provide a high-level summary of the data and helps to identify any potential issues that need to be addressed in the data cleaning process.\n",
    "\n",
    "We'll then divide the data overview process into the following sub-sections:\n",
    "\n",
    "- **Metadata Information**: This will provide us the relevant additional information that helps us understand the data source.\n",
    "- **Dataframe Details**: This will provide us the overall structure of the data.\n",
    "- **Field Details**: This will provide us the general details of each field, such as, the field name, field type, etc.\n",
    "- **Redundancy Checks**: This will check for duplicates in the data to make sure that we have a clean dataset to work with.\n",
    "\n",
    "Now, let's dive into each of these sub-sections and get a deeper understanding of the data."
   ]
  },
  {
   "cell_type": "markdown",
   "metadata": {},
   "source": [
    "### Metadata Information\n",
    "\n",
    "In this section, we'll be describing each field present in our dataset, providing insight into the information contained within each field. This information is crucial in helping us understand the structure of our data, and ensuring that we are able to effectively clean and transform it in preparation for analysis and visualization. Here's a breakdown of the fields contained within our dataset:\n",
    "\n",
    "- **title** : Title of the book\n",
    "- **genre** : Genre of the book\n",
    "- **price** : Price of the book in Euros(£)\n",
    "- **star_rating** : Rating of book out of 5\n",
    "- **stock_availability** : Availability status of the book\n",
    "- **book_image** : Image URL of the book\n",
    "- **last_updated_at_UTC** : Latest UTC timestamp of item scraped"
   ]
  },
  {
   "cell_type": "markdown",
   "metadata": {},
   "source": [
    "### Dataframe Details\n",
    "\n",
    "This section is a cruicial one and it provides a high-level overview of the dataframe being analyzed. This section includes important information about the size and structure of the data, as well as any missing or null values in the data. The details of the dataframe that we'll get are as follows:\n",
    "\n",
    "- **Dimensions**: The number of rows and columns in the dataframe.\n",
    "- **Shape**: The shape of the dataframe, represented as a tuple (rows, columns).\n",
    "- **Row Count**: The number of rows in the dataframe.\n",
    "- **Column Count**: The number of columns in the dataframe.\n",
    "- **Total Datapoints**: The total number of data points in the dataframe, calculated as the number of rows multiplied by the number of columns.\n",
    "- **Null Datapoints**: The number of missing or null values in the dataframe.\n",
    "- **Non-Null Datapoints**: The number of non-missing or non-null values in the dataframe.\n",
    "- **Total Memory Usage**: The total memory usage of the dataframe, represented in bytes.\n",
    "- **Average Memory Usage**: The average memory usage of each data point in the dataframe, represented in bytes.\n",
    "\n",
    "This section provides a quick reference for the dataframe, and helps to identify any potential issues with the data that may need to be addressed in the cleaning process. By having a clear and concise overview of the dataframe, it's easier to move forward with the data cleaning and analysis process."
   ]
  },
  {
   "cell_type": "code",
   "execution_count": 3,
   "metadata": {},
   "outputs": [
    {
     "name": "stdout",
     "output_type": "stream",
     "text": [
      "+----------------------+-----------+\n",
      "| Dataframe Attributes | Value     |\n",
      "+----------------------+-----------+\n",
      "| Dimensions           | 2         |\n",
      "| Shape                | (1000, 7) |\n",
      "| Row Count            | 1000      |\n",
      "| Column Count         | 7         |\n",
      "| Total Datapoints     | 7000      |\n",
      "| Null Datapoints      | 0         |\n",
      "| Non-Null Datapoints  | 7000      |\n",
      "| Total Memory Usage   | 512267    |\n",
      "| Average Memory Usage | 64033.0   |\n",
      "+----------------------+-----------+\n"
     ]
    }
   ],
   "source": [
    "# get the dataframe structure details\n",
    "df_structure = dataframe_structure(dataframe=books)\n",
    "\n",
    "# prettify the dictionary response\n",
    "tbl = dict_to_table(input_dict=df_structure,\n",
    "                    column_headers=[\"Dataframe Attributes\", \"Value\"])\n",
    "\n",
    "# show table\n",
    "print(tbl)"
   ]
  },
  {
   "cell_type": "markdown",
   "metadata": {},
   "source": [
    "💡 **Insights:**\n",
    "\n",
    "The dataframe has $2$ dimensions and a shape of ($1000$, $7$), meaning it has $1000$ rows and $7$ columns.<br>\n",
    "The dataframe has a total of $7000$ data points, with no null data points. The total memory usage of the dataframe is $5,12,267$ bytes and the average memory usage per column is $64,033$ bytes."
   ]
  },
  {
   "cell_type": "markdown",
   "metadata": {},
   "source": [
    "### Field Details\n",
    "\n",
    "This section provides a detailed view of the columns in the dataframe, and includes important information that can help with the data cleaning and analysis process. This section is typically used to get an understanding of the data types and distributions of the columns, and to identify any missing or null values that may need to be addressed.\n",
    "\n",
    "We can use the `info()` method in `pandas` to quickly get an understanding of the structure and distribution of the data, and identify any issues that may need to be addressed in the cleaning process.\n",
    "\n",
    "Additionally, we'll use the function `datatype_details()` defined in the [helper_functions.py](./helper_functions.py) file to get a datatype details of the dataframe.\n",
    "\n",
    "Some of the key information that we'll get from this section are as follows:\n",
    "\n",
    "- **Column Names**: A list of the names of all the columns in the dataframe, which can help you to identify any columns that may need to be renamed for clarity or consistency.\n",
    "- **Datatypes**: The datatype of each column in the dataframe, such as integer, float, string, etc. The datatype information is important because it determines how the data can be analyzed and manipulated.\n",
    "- **Non-Null Count**: The number of non-null or non-missing values for each column in the dataframe. This information can help you to determine if there are any columns that have a high percentage of missing values, which may need to be handled differently in the cleaning process.\n",
    "- **Null Count**: The number of null or missing values for each column in the dataframe. This information can help you to determine if there are any columns that have a high number of missing values, which may need to be handled differently in the cleaning process.\n",
    "- **Memory Usage**: The memory usage of each column in the dataframe, represented in bytes. This information can be useful in determining if there are any columns that are using a large amount of memory, which may need to be optimized for performance."
   ]
  },
  {
   "cell_type": "code",
   "execution_count": 4,
   "metadata": {},
   "outputs": [
    {
     "name": "stdout",
     "output_type": "stream",
     "text": [
      "<class 'pandas.core.frame.DataFrame'>\n",
      "RangeIndex: 1000 entries, 0 to 999\n",
      "Data columns (total 7 columns):\n",
      " #   Column               Non-Null Count  Dtype  \n",
      "---  ------               --------------  -----  \n",
      " 0   title                1000 non-null   object \n",
      " 1   genre                1000 non-null   object \n",
      " 2   price                1000 non-null   float64\n",
      " 3   star_rating          1000 non-null   object \n",
      " 4   stock_availability   1000 non-null   object \n",
      " 5   book_image           1000 non-null   object \n",
      " 6   last_updated_at_UTC  1000 non-null   object \n",
      "dtypes: float64(1), object(6)\n",
      "memory usage: 500.3 KB\n"
     ]
    }
   ],
   "source": [
    "# get field details\n",
    "books.info(memory_usage ='deep')"
   ]
  },
  {
   "cell_type": "code",
   "execution_count": 5,
   "metadata": {},
   "outputs": [
    {
     "name": "stdout",
     "output_type": "stream",
     "text": [
      "There are 6 fields with object datatype\n",
      "There are 1 fields with float64 datatype\n"
     ]
    }
   ],
   "source": [
    "# get details of teh datatypes\n",
    "datatype_details(books)"
   ]
  },
  {
   "cell_type": "markdown",
   "metadata": {},
   "source": [
    "💡 **Insight:**\n",
    "\n",
    "Based on the above results, it appears that the dataframe has $7$ columns and none of the columns have missing values. This is a positive indication that the data is relatively clean and ready for further analysis. However, it is always good to double check the data and perform some exploratory data analysis to make sure that there are no other issues with the data.\n",
    "\n",
    "We also found that our dataset has $6$ object type data field and $1$ float type data field (`price`).\n",
    "\n",
    "The data we have is almost clean however, we can still perform some enhancements for the ease of use."
   ]
  },
  {
   "cell_type": "markdown",
   "metadata": {},
   "source": [
    "### Redundancy Checks\n",
    "\n",
    "In this section, we will conduct a duplicate check on the data in order to ensure that our dataset is accurate and free from any duplicate records. We will exclude the `last_updated_at_UTC` field from this check as it represents the timestamp when the data was collected and is not relevant for the purpose of identifying duplicates. \n",
    "\n",
    "This step is important to maintain the integrity of our analysis and ensure that we are working with accurate information."
   ]
  },
  {
   "cell_type": "code",
   "execution_count": 6,
   "metadata": {},
   "outputs": [
    {
     "name": "stdout",
     "output_type": "stream",
     "text": [
      "There are 0 duplicate entries in the dataset\n"
     ]
    }
   ],
   "source": [
    "# number of duplicated entries\n",
    "duplicates_cnt = books.drop(columns=\"last_updated_at_UTC\").duplicated().sum()\n",
    "print(f\"There are {duplicates_cnt} duplicate entries in the dataset\")"
   ]
  },
  {
   "cell_type": "markdown",
   "metadata": {},
   "source": [
    "💡 **Insight:**\n",
    "\n",
    "Having a duplicate-free dataset is important for ensuring that our analysis is accurate and meaningful. \n",
    "\n",
    "As we can see from the results of our duplicate check, there are no duplicate values in our data. Each row in the dataframe perfectly represents a unique book entry. This is a great start as it ensures that our analysis will be based on a clean and reliable dataset.\n",
    "\n",
    "Moving forward, we can be confident in the accuracy of our insights as we analyze the relationships between the various attributes of the books, such as genre, rating, and price."
   ]
  },
  {
   "cell_type": "markdown",
   "metadata": {},
   "source": [
    "## Data Cleaning Operations\n",
    "\n",
    "This is the section where the actual data cleaning and preparation will takes place. In this section, we will apply various data cleaning techniques to the dataframe to remove any errors, inconsistencies, or irrelevant information that may impact your analysis. The goal of this section is to ensure that the data is in a clean, consistent, and usable format for analysis.\n",
    "\n",
    "Some common data cleaning operations include:\n",
    "\n",
    "- **Handling missing values**: Replacing or removing missing values from the dataframe.\n",
    "- **Removing duplicates**: Identifying and removing duplicate records from the dataframe.\n",
    "- **Fixing data types**: Converting data from one type to another, as needed, to ensure consistency across columns.\n",
    "- **Removing irrelevant information**: Removing any columns or records that are not needed for the analysis.\n",
    "- **Standardizing values**: Converting values to a standardized format, such as converting date strings to date objects.\n",
    "\n",
    "By documenting the data cleaning operations that were performed, you can ensure that the data is cleaned in a consistent and reproducible manner, and that your results can be easily validated by others.\n",
    "\n",
    "The \"Data Overview\" section has provided us with a comprehensive understanding of the state of the data. Upon review, it has been determined that the data is in good shape, with no missing values present. However, there are still a few cleaning operations that that we need to perform in order to ensure that the data is ready for analysis.\n",
    "\n",
    "We can divide the cleaning operation in two stages:\n",
    "\n",
    "- **Data Standardization**: Involves standardization of specific fields for a better analysis\n",
    "- **Datatype Fixes**: Involves fixing any datatype errors or inconsistencies in the data, so that it can be effectively analyzed.\n",
    "\n",
    "By performing these cleaning operations, we will have a well-structured and usable data set that can be analyzed and used to gain insights and make informed decisions."
   ]
  },
  {
   "cell_type": "markdown",
   "metadata": {},
   "source": [
    "### Data Standardization\n",
    "\n",
    "In this section, we'll standardize the values in `star_rating` and `stock_availability` columns. Therefore, the action items are as follows:\n",
    "\n",
    "- The first step is to convert the letter values in the `star_rating` column, such as \"One\", \"Two\", etc. into their integer equivalent, such as 1, 2, etc.. This will allow us to perform numerical calculations and analysis on the ratings data.\n",
    "- Next, we will standardize the values in the `stock_availability` column by converting \"In Stock\" to \"Yes\" and everything else to \"No\". This will allow us to easily determine if a product is available for purchase or not."
   ]
  },
  {
   "cell_type": "code",
   "execution_count": 7,
   "metadata": {},
   "outputs": [
    {
     "data": {
      "text/plain": [
       "array(['Two', 'Four', 'Three', 'One', 'Five'], dtype=object)"
      ]
     },
     "execution_count": 7,
     "metadata": {},
     "output_type": "execute_result"
    }
   ],
   "source": [
    "# view unique list of items in star_ratings column\n",
    "books[\"star_rating\"].unique()"
   ]
  },
  {
   "cell_type": "code",
   "execution_count": 8,
   "metadata": {},
   "outputs": [
    {
     "data": {
      "text/plain": [
       "array([2, 4, 3, 1, 5], dtype=int64)"
      ]
     },
     "execution_count": 8,
     "metadata": {},
     "output_type": "execute_result"
    }
   ],
   "source": [
    "# mapping dictionary\n",
    "ratings_map = {\"One\": 1, \"Two\": 2, \"Three\": 3, \"Four\": 4, \"Five\": 5}\n",
    "\n",
    "# apply map over column\n",
    "books[\"star_rating\"] = books[\"star_rating\"].map(ratings_map)\n",
    "\n",
    "# view unique list of in star_ratings column\n",
    "books[\"star_rating\"].unique()"
   ]
  },
  {
   "cell_type": "code",
   "execution_count": 9,
   "metadata": {},
   "outputs": [
    {
     "data": {
      "text/html": [
       "<div>\n",
       "<style scoped>\n",
       "    .dataframe tbody tr th:only-of-type {\n",
       "        vertical-align: middle;\n",
       "    }\n",
       "\n",
       "    .dataframe tbody tr th {\n",
       "        vertical-align: top;\n",
       "    }\n",
       "\n",
       "    .dataframe thead th {\n",
       "        text-align: right;\n",
       "    }\n",
       "</style>\n",
       "<table border=\"1\" class=\"dataframe\">\n",
       "  <thead>\n",
       "    <tr style=\"text-align: right;\">\n",
       "      <th></th>\n",
       "      <th>title</th>\n",
       "      <th>genre</th>\n",
       "      <th>price</th>\n",
       "      <th>star_rating</th>\n",
       "      <th>stock_availability</th>\n",
       "      <th>book_image</th>\n",
       "      <th>last_updated_at_UTC</th>\n",
       "    </tr>\n",
       "  </thead>\n",
       "  <tbody>\n",
       "    <tr>\n",
       "      <th>0</th>\n",
       "      <td>It's Only the Himalayas</td>\n",
       "      <td>Travel</td>\n",
       "      <td>45.17</td>\n",
       "      <td>2</td>\n",
       "      <td>In stock</td>\n",
       "      <td>https://books.toscrape.com/media/cache/27/a5/2...</td>\n",
       "      <td>18-Jun-2022 19:04:35</td>\n",
       "    </tr>\n",
       "    <tr>\n",
       "      <th>1</th>\n",
       "      <td>Full Moon over Noah’s Ark: An Odyssey to Mount...</td>\n",
       "      <td>Travel</td>\n",
       "      <td>49.43</td>\n",
       "      <td>4</td>\n",
       "      <td>In stock</td>\n",
       "      <td>https://books.toscrape.com/media/cache/57/77/5...</td>\n",
       "      <td>18-Jun-2022 19:04:35</td>\n",
       "    </tr>\n",
       "    <tr>\n",
       "      <th>2</th>\n",
       "      <td>See America: A Celebration of Our National Par...</td>\n",
       "      <td>Travel</td>\n",
       "      <td>48.87</td>\n",
       "      <td>3</td>\n",
       "      <td>In stock</td>\n",
       "      <td>https://books.toscrape.com/media/cache/9a/7e/9...</td>\n",
       "      <td>18-Jun-2022 19:04:35</td>\n",
       "    </tr>\n",
       "    <tr>\n",
       "      <th>3</th>\n",
       "      <td>Vagabonding: An Uncommon Guide to the Art of L...</td>\n",
       "      <td>Travel</td>\n",
       "      <td>36.94</td>\n",
       "      <td>2</td>\n",
       "      <td>In stock</td>\n",
       "      <td>https://books.toscrape.com/media/cache/d5/bf/d...</td>\n",
       "      <td>18-Jun-2022 19:04:35</td>\n",
       "    </tr>\n",
       "    <tr>\n",
       "      <th>4</th>\n",
       "      <td>Under the Tuscan Sun</td>\n",
       "      <td>Travel</td>\n",
       "      <td>37.33</td>\n",
       "      <td>3</td>\n",
       "      <td>In stock</td>\n",
       "      <td>https://books.toscrape.com/media/cache/98/c2/9...</td>\n",
       "      <td>18-Jun-2022 19:04:35</td>\n",
       "    </tr>\n",
       "  </tbody>\n",
       "</table>\n",
       "</div>"
      ],
      "text/plain": [
       "                                               title   genre  price  \\\n",
       "0                            It's Only the Himalayas  Travel  45.17   \n",
       "1  Full Moon over Noah’s Ark: An Odyssey to Mount...  Travel  49.43   \n",
       "2  See America: A Celebration of Our National Par...  Travel  48.87   \n",
       "3  Vagabonding: An Uncommon Guide to the Art of L...  Travel  36.94   \n",
       "4                               Under the Tuscan Sun  Travel  37.33   \n",
       "\n",
       "   star_rating stock_availability  \\\n",
       "0            2           In stock   \n",
       "1            4           In stock   \n",
       "2            3           In stock   \n",
       "3            2           In stock   \n",
       "4            3           In stock   \n",
       "\n",
       "                                          book_image   last_updated_at_UTC  \n",
       "0  https://books.toscrape.com/media/cache/27/a5/2...  18-Jun-2022 19:04:35  \n",
       "1  https://books.toscrape.com/media/cache/57/77/5...  18-Jun-2022 19:04:35  \n",
       "2  https://books.toscrape.com/media/cache/9a/7e/9...  18-Jun-2022 19:04:35  \n",
       "3  https://books.toscrape.com/media/cache/d5/bf/d...  18-Jun-2022 19:04:35  \n",
       "4  https://books.toscrape.com/media/cache/98/c2/9...  18-Jun-2022 19:04:35  "
      ]
     },
     "execution_count": 9,
     "metadata": {},
     "output_type": "execute_result"
    }
   ],
   "source": [
    "# checking glimpse of the data\n",
    "books.head()"
   ]
  },
  {
   "cell_type": "code",
   "execution_count": 10,
   "metadata": {},
   "outputs": [
    {
     "data": {
      "text/plain": [
       "array(['In stock'], dtype=object)"
      ]
     },
     "execution_count": 10,
     "metadata": {},
     "output_type": "execute_result"
    }
   ],
   "source": [
    "# view unique list of items in stock_availability column\n",
    "books[\"stock_availability\"].unique()"
   ]
  },
  {
   "cell_type": "code",
   "execution_count": 11,
   "metadata": {},
   "outputs": [
    {
     "data": {
      "text/plain": [
       "array(['Yes'], dtype=object)"
      ]
     },
     "execution_count": 11,
     "metadata": {},
     "output_type": "execute_result"
    }
   ],
   "source": [
    "# apply list comprehension to condionally change value\n",
    "books[\"stock_availability\"] = [\"Yes\" if x == \"In stock\" else \"No\" for x in books[\"stock_availability\"]]\n",
    "\n",
    "# view unique list of items in stock_availability column\n",
    "books[\"stock_availability\"].unique()"
   ]
  },
  {
   "cell_type": "code",
   "execution_count": 12,
   "metadata": {},
   "outputs": [
    {
     "data": {
      "text/html": [
       "<div>\n",
       "<style scoped>\n",
       "    .dataframe tbody tr th:only-of-type {\n",
       "        vertical-align: middle;\n",
       "    }\n",
       "\n",
       "    .dataframe tbody tr th {\n",
       "        vertical-align: top;\n",
       "    }\n",
       "\n",
       "    .dataframe thead th {\n",
       "        text-align: right;\n",
       "    }\n",
       "</style>\n",
       "<table border=\"1\" class=\"dataframe\">\n",
       "  <thead>\n",
       "    <tr style=\"text-align: right;\">\n",
       "      <th></th>\n",
       "      <th>title</th>\n",
       "      <th>genre</th>\n",
       "      <th>price</th>\n",
       "      <th>star_rating</th>\n",
       "      <th>stock_availability</th>\n",
       "      <th>book_image</th>\n",
       "      <th>last_updated_at_UTC</th>\n",
       "    </tr>\n",
       "  </thead>\n",
       "  <tbody>\n",
       "    <tr>\n",
       "      <th>0</th>\n",
       "      <td>It's Only the Himalayas</td>\n",
       "      <td>Travel</td>\n",
       "      <td>45.17</td>\n",
       "      <td>2</td>\n",
       "      <td>Yes</td>\n",
       "      <td>https://books.toscrape.com/media/cache/27/a5/2...</td>\n",
       "      <td>18-Jun-2022 19:04:35</td>\n",
       "    </tr>\n",
       "    <tr>\n",
       "      <th>1</th>\n",
       "      <td>Full Moon over Noah’s Ark: An Odyssey to Mount...</td>\n",
       "      <td>Travel</td>\n",
       "      <td>49.43</td>\n",
       "      <td>4</td>\n",
       "      <td>Yes</td>\n",
       "      <td>https://books.toscrape.com/media/cache/57/77/5...</td>\n",
       "      <td>18-Jun-2022 19:04:35</td>\n",
       "    </tr>\n",
       "    <tr>\n",
       "      <th>2</th>\n",
       "      <td>See America: A Celebration of Our National Par...</td>\n",
       "      <td>Travel</td>\n",
       "      <td>48.87</td>\n",
       "      <td>3</td>\n",
       "      <td>Yes</td>\n",
       "      <td>https://books.toscrape.com/media/cache/9a/7e/9...</td>\n",
       "      <td>18-Jun-2022 19:04:35</td>\n",
       "    </tr>\n",
       "    <tr>\n",
       "      <th>3</th>\n",
       "      <td>Vagabonding: An Uncommon Guide to the Art of L...</td>\n",
       "      <td>Travel</td>\n",
       "      <td>36.94</td>\n",
       "      <td>2</td>\n",
       "      <td>Yes</td>\n",
       "      <td>https://books.toscrape.com/media/cache/d5/bf/d...</td>\n",
       "      <td>18-Jun-2022 19:04:35</td>\n",
       "    </tr>\n",
       "    <tr>\n",
       "      <th>4</th>\n",
       "      <td>Under the Tuscan Sun</td>\n",
       "      <td>Travel</td>\n",
       "      <td>37.33</td>\n",
       "      <td>3</td>\n",
       "      <td>Yes</td>\n",
       "      <td>https://books.toscrape.com/media/cache/98/c2/9...</td>\n",
       "      <td>18-Jun-2022 19:04:35</td>\n",
       "    </tr>\n",
       "  </tbody>\n",
       "</table>\n",
       "</div>"
      ],
      "text/plain": [
       "                                               title   genre  price  \\\n",
       "0                            It's Only the Himalayas  Travel  45.17   \n",
       "1  Full Moon over Noah’s Ark: An Odyssey to Mount...  Travel  49.43   \n",
       "2  See America: A Celebration of Our National Par...  Travel  48.87   \n",
       "3  Vagabonding: An Uncommon Guide to the Art of L...  Travel  36.94   \n",
       "4                               Under the Tuscan Sun  Travel  37.33   \n",
       "\n",
       "   star_rating stock_availability  \\\n",
       "0            2                Yes   \n",
       "1            4                Yes   \n",
       "2            3                Yes   \n",
       "3            2                Yes   \n",
       "4            3                Yes   \n",
       "\n",
       "                                          book_image   last_updated_at_UTC  \n",
       "0  https://books.toscrape.com/media/cache/27/a5/2...  18-Jun-2022 19:04:35  \n",
       "1  https://books.toscrape.com/media/cache/57/77/5...  18-Jun-2022 19:04:35  \n",
       "2  https://books.toscrape.com/media/cache/9a/7e/9...  18-Jun-2022 19:04:35  \n",
       "3  https://books.toscrape.com/media/cache/d5/bf/d...  18-Jun-2022 19:04:35  \n",
       "4  https://books.toscrape.com/media/cache/98/c2/9...  18-Jun-2022 19:04:35  "
      ]
     },
     "execution_count": 12,
     "metadata": {},
     "output_type": "execute_result"
    }
   ],
   "source": [
    "# checking glimpse of the data\n",
    "books.head()"
   ]
  },
  {
   "cell_type": "markdown",
   "metadata": {},
   "source": [
    "### Datatype Fixes\n",
    "\n",
    "In this section, we will take a closer look at the data types of each column in the dataframe to ensure that they are correctly assigned. The goal of this step is to ensure that each column is stored in a format that accurately represents its data, allowing us to perform accurate calculations and analysis.\n",
    "\n",
    "During the \"Data Standardization\" steps, we have conditionally replaced values in the dataframe, so it is crucial to verify that the correct data types are in place. If needed, we will change the data type of a column to accurately reflect the data it contains.\n",
    "\n",
    "For example, if we have a column that contains numbers, but it is stored as a string data type, we will change it to an integer or float data type. This will allow us to perform numerical calculations on the data and get meaningful results.\n",
    "\n",
    "By ensuring that the data types are correctly assigned, we can be confident that the data is stored in a usable and meaningful format for analysis."
   ]
  },
  {
   "cell_type": "code",
   "execution_count": 13,
   "metadata": {},
   "outputs": [
    {
     "data": {
      "text/plain": [
       "title                   object\n",
       "genre                   object\n",
       "price                  float64\n",
       "star_rating              int64\n",
       "stock_availability      object\n",
       "book_image              object\n",
       "last_updated_at_UTC     object\n",
       "dtype: object"
      ]
     },
     "execution_count": 13,
     "metadata": {},
     "output_type": "execute_result"
    }
   ],
   "source": [
    "books.dtypes"
   ]
  },
  {
   "cell_type": "markdown",
   "metadata": {},
   "source": [
    "💡 **Insight:**\n",
    "\n",
    "The review of the data types in the dataframe has revealed that the `star_rating` column now has the correct datatype of \"int64\". This is a result of our previous standardization step where we converted the letter values into their integer equivalent. Additionally, the other fields in the dataframe have also been assigned appropriate data types.\n",
    "\n",
    "However, there is one exception: the `last_updated_at_UTC` field is actually a datetime field, but it has been assigned a data type of \"object\". While this may seem like an issue, it is not a concern as we will not be performing any analysis on the timestamps. The timestamp is simply there to provide information on when the data was scraped.\n",
    "\n",
    "In conclusion, the data types have been correctly assigned to ensure that the data is stored in a meaningful and usable format for analysis."
   ]
  },
  {
   "cell_type": "markdown",
   "metadata": {},
   "source": [
    "## Data Transformation\n",
    "\n",
    "This section involves transforming the data in ways that will make it easier to work with, analyze and gain insights from. The data may need to be transformed in order to better represent the relationships and patterns within the data, or to prepare it for specific types of analysis.\n",
    "\n",
    "We can perform aggregation of data at different levels of granularity, creating new variables through calculations, or transforming variables to meet specific requirements for analysis, etc. as per the requirement.\n",
    "\n",
    "The current level of granularity of the data is sufficient for analysis, so no additional aggregations are necessary. However, before exporting the data for further analysis and visualization, there are few transformation steps that need to be taken to ensure the data is in the best format for these purposes. These steps will help to streamline the data and make it easier to work with, ultimately leading to more meaningful and impactful insights.\n",
    "\n",
    "We can divide the data transformation in the following two sub-sections:\n",
    "\n",
    "- **Field Renaming**: Adjusting column names to better represent their contents.\n",
    "- **Custom Index Addition**: Adding a custom index to the dataframe for improved organization and easier analysis.\n",
    "\n",
    "By completing these transformations, we can prepare the data for more in-depth analysis, and increase the chances of uncovering useful insights."
   ]
  },
  {
   "cell_type": "markdown",
   "metadata": {},
   "source": [
    "### Field Renaming\n",
    "\n",
    "This section involves renaming columns in the dataframe to make them more descriptive, consistent, and easy to work with. Properly naming columns can greatly improve the readability and understandability of the data, making it easier to perform analysis and visualization.\n",
    "\n",
    "In this section, we will review the current column names and determine if any changes are necessary. We may need to rename columns to make them more descriptive, to make them match the names of other columns in related datasets, or to eliminate any confusion that may arise from ambiguous or inconsistent column names. By properly renaming columns, we can improve the overall quality and organization of the data, and make it easier to work with and analyze."
   ]
  },
  {
   "cell_type": "code",
   "execution_count": 14,
   "metadata": {},
   "outputs": [
    {
     "data": {
      "text/plain": [
       "['title',\n",
       " 'genre',\n",
       " 'price',\n",
       " 'star_rating',\n",
       " 'stock_availability',\n",
       " 'book_image',\n",
       " 'last_updated_at_UTC']"
      ]
     },
     "execution_count": 14,
     "metadata": {},
     "output_type": "execute_result"
    }
   ],
   "source": [
    "# view current column names\n",
    "list(books.columns)"
   ]
  },
  {
   "cell_type": "code",
   "execution_count": 15,
   "metadata": {},
   "outputs": [
    {
     "data": {
      "text/plain": [
       "['Title',\n",
       " 'Genre',\n",
       " 'Price (£)',\n",
       " 'Rating',\n",
       " 'Stock Availability Status',\n",
       " 'Cover Page',\n",
       " 'Last Update Timestamp (UTC)']"
      ]
     },
     "execution_count": 15,
     "metadata": {},
     "output_type": "execute_result"
    }
   ],
   "source": [
    "# list of new column names\n",
    "new_column_names = [\n",
    "    'Title',\n",
    "    'Genre',\n",
    "    'Price (£)',\n",
    "    'Rating',\n",
    "    'Stock Availability Status',\n",
    "    'Cover Page',\n",
    "    'Last Update Timestamp (UTC)'\n",
    "]\n",
    "\n",
    "# rename columns\n",
    "books.columns = new_column_names\n",
    "\n",
    "# view new column names in dataframe\n",
    "list(books.columns)"
   ]
  },
  {
   "cell_type": "code",
   "execution_count": 16,
   "metadata": {},
   "outputs": [
    {
     "data": {
      "text/html": [
       "<div>\n",
       "<style scoped>\n",
       "    .dataframe tbody tr th:only-of-type {\n",
       "        vertical-align: middle;\n",
       "    }\n",
       "\n",
       "    .dataframe tbody tr th {\n",
       "        vertical-align: top;\n",
       "    }\n",
       "\n",
       "    .dataframe thead th {\n",
       "        text-align: right;\n",
       "    }\n",
       "</style>\n",
       "<table border=\"1\" class=\"dataframe\">\n",
       "  <thead>\n",
       "    <tr style=\"text-align: right;\">\n",
       "      <th></th>\n",
       "      <th>Title</th>\n",
       "      <th>Genre</th>\n",
       "      <th>Price (£)</th>\n",
       "      <th>Rating</th>\n",
       "      <th>Stock Availability Status</th>\n",
       "      <th>Cover Page</th>\n",
       "      <th>Last Update Timestamp (UTC)</th>\n",
       "    </tr>\n",
       "  </thead>\n",
       "  <tbody>\n",
       "    <tr>\n",
       "      <th>0</th>\n",
       "      <td>It's Only the Himalayas</td>\n",
       "      <td>Travel</td>\n",
       "      <td>45.17</td>\n",
       "      <td>2</td>\n",
       "      <td>Yes</td>\n",
       "      <td>https://books.toscrape.com/media/cache/27/a5/2...</td>\n",
       "      <td>18-Jun-2022 19:04:35</td>\n",
       "    </tr>\n",
       "    <tr>\n",
       "      <th>1</th>\n",
       "      <td>Full Moon over Noah’s Ark: An Odyssey to Mount...</td>\n",
       "      <td>Travel</td>\n",
       "      <td>49.43</td>\n",
       "      <td>4</td>\n",
       "      <td>Yes</td>\n",
       "      <td>https://books.toscrape.com/media/cache/57/77/5...</td>\n",
       "      <td>18-Jun-2022 19:04:35</td>\n",
       "    </tr>\n",
       "    <tr>\n",
       "      <th>2</th>\n",
       "      <td>See America: A Celebration of Our National Par...</td>\n",
       "      <td>Travel</td>\n",
       "      <td>48.87</td>\n",
       "      <td>3</td>\n",
       "      <td>Yes</td>\n",
       "      <td>https://books.toscrape.com/media/cache/9a/7e/9...</td>\n",
       "      <td>18-Jun-2022 19:04:35</td>\n",
       "    </tr>\n",
       "    <tr>\n",
       "      <th>3</th>\n",
       "      <td>Vagabonding: An Uncommon Guide to the Art of L...</td>\n",
       "      <td>Travel</td>\n",
       "      <td>36.94</td>\n",
       "      <td>2</td>\n",
       "      <td>Yes</td>\n",
       "      <td>https://books.toscrape.com/media/cache/d5/bf/d...</td>\n",
       "      <td>18-Jun-2022 19:04:35</td>\n",
       "    </tr>\n",
       "    <tr>\n",
       "      <th>4</th>\n",
       "      <td>Under the Tuscan Sun</td>\n",
       "      <td>Travel</td>\n",
       "      <td>37.33</td>\n",
       "      <td>3</td>\n",
       "      <td>Yes</td>\n",
       "      <td>https://books.toscrape.com/media/cache/98/c2/9...</td>\n",
       "      <td>18-Jun-2022 19:04:35</td>\n",
       "    </tr>\n",
       "  </tbody>\n",
       "</table>\n",
       "</div>"
      ],
      "text/plain": [
       "                                               Title   Genre  Price (£)  \\\n",
       "0                            It's Only the Himalayas  Travel      45.17   \n",
       "1  Full Moon over Noah’s Ark: An Odyssey to Mount...  Travel      49.43   \n",
       "2  See America: A Celebration of Our National Par...  Travel      48.87   \n",
       "3  Vagabonding: An Uncommon Guide to the Art of L...  Travel      36.94   \n",
       "4                               Under the Tuscan Sun  Travel      37.33   \n",
       "\n",
       "   Rating Stock Availability Status  \\\n",
       "0       2                       Yes   \n",
       "1       4                       Yes   \n",
       "2       3                       Yes   \n",
       "3       2                       Yes   \n",
       "4       3                       Yes   \n",
       "\n",
       "                                          Cover Page  \\\n",
       "0  https://books.toscrape.com/media/cache/27/a5/2...   \n",
       "1  https://books.toscrape.com/media/cache/57/77/5...   \n",
       "2  https://books.toscrape.com/media/cache/9a/7e/9...   \n",
       "3  https://books.toscrape.com/media/cache/d5/bf/d...   \n",
       "4  https://books.toscrape.com/media/cache/98/c2/9...   \n",
       "\n",
       "  Last Update Timestamp (UTC)  \n",
       "0        18-Jun-2022 19:04:35  \n",
       "1        18-Jun-2022 19:04:35  \n",
       "2        18-Jun-2022 19:04:35  \n",
       "3        18-Jun-2022 19:04:35  \n",
       "4        18-Jun-2022 19:04:35  "
      ]
     },
     "execution_count": 16,
     "metadata": {},
     "output_type": "execute_result"
    }
   ],
   "source": [
    "# view glimpse of data\n",
    "books.head()"
   ]
  },
  {
   "cell_type": "markdown",
   "metadata": {},
   "source": [
    "### Custom Index Addition\n",
    "\n",
    "In this section, we will add a custom index to the dataframe to make it easier to access and manipulate the data. An index is a set of labels that is used to identify each row in the dataframe, and it can greatly improve the performance and efficiency of data operations.\n",
    "\n",
    "By adding a custom index, we can make the data more organized and easier to work with. This can be particularly useful when we want to perform specific operations on a subset of the data, or when we want to access specific rows or columns more quickly. The custom index can be set to a specific column in the data, or it can be created based on a combination of columns. Whatever the case may be, adding a custom index can greatly improve the data preparation process and make the data more accessible and usable for analysis and visualization."
   ]
  },
  {
   "cell_type": "code",
   "execution_count": 17,
   "metadata": {},
   "outputs": [
    {
     "data": {
      "text/html": [
       "<div>\n",
       "<style scoped>\n",
       "    .dataframe tbody tr th:only-of-type {\n",
       "        vertical-align: middle;\n",
       "    }\n",
       "\n",
       "    .dataframe tbody tr th {\n",
       "        vertical-align: top;\n",
       "    }\n",
       "\n",
       "    .dataframe thead th {\n",
       "        text-align: right;\n",
       "    }\n",
       "</style>\n",
       "<table border=\"1\" class=\"dataframe\">\n",
       "  <thead>\n",
       "    <tr style=\"text-align: right;\">\n",
       "      <th></th>\n",
       "      <th>Title</th>\n",
       "      <th>Genre</th>\n",
       "      <th>Price (£)</th>\n",
       "      <th>Rating</th>\n",
       "      <th>Stock Availability Status</th>\n",
       "      <th>Cover Page</th>\n",
       "      <th>Last Update Timestamp (UTC)</th>\n",
       "    </tr>\n",
       "    <tr>\n",
       "      <th>BookID</th>\n",
       "      <th></th>\n",
       "      <th></th>\n",
       "      <th></th>\n",
       "      <th></th>\n",
       "      <th></th>\n",
       "      <th></th>\n",
       "      <th></th>\n",
       "    </tr>\n",
       "  </thead>\n",
       "  <tbody>\n",
       "    <tr>\n",
       "      <th>B1000</th>\n",
       "      <td>It's Only the Himalayas</td>\n",
       "      <td>Travel</td>\n",
       "      <td>45.17</td>\n",
       "      <td>2</td>\n",
       "      <td>Yes</td>\n",
       "      <td>https://books.toscrape.com/media/cache/27/a5/2...</td>\n",
       "      <td>18-Jun-2022 19:04:35</td>\n",
       "    </tr>\n",
       "    <tr>\n",
       "      <th>B1001</th>\n",
       "      <td>Full Moon over Noah’s Ark: An Odyssey to Mount...</td>\n",
       "      <td>Travel</td>\n",
       "      <td>49.43</td>\n",
       "      <td>4</td>\n",
       "      <td>Yes</td>\n",
       "      <td>https://books.toscrape.com/media/cache/57/77/5...</td>\n",
       "      <td>18-Jun-2022 19:04:35</td>\n",
       "    </tr>\n",
       "    <tr>\n",
       "      <th>B1002</th>\n",
       "      <td>See America: A Celebration of Our National Par...</td>\n",
       "      <td>Travel</td>\n",
       "      <td>48.87</td>\n",
       "      <td>3</td>\n",
       "      <td>Yes</td>\n",
       "      <td>https://books.toscrape.com/media/cache/9a/7e/9...</td>\n",
       "      <td>18-Jun-2022 19:04:35</td>\n",
       "    </tr>\n",
       "    <tr>\n",
       "      <th>B1003</th>\n",
       "      <td>Vagabonding: An Uncommon Guide to the Art of L...</td>\n",
       "      <td>Travel</td>\n",
       "      <td>36.94</td>\n",
       "      <td>2</td>\n",
       "      <td>Yes</td>\n",
       "      <td>https://books.toscrape.com/media/cache/d5/bf/d...</td>\n",
       "      <td>18-Jun-2022 19:04:35</td>\n",
       "    </tr>\n",
       "    <tr>\n",
       "      <th>B1004</th>\n",
       "      <td>Under the Tuscan Sun</td>\n",
       "      <td>Travel</td>\n",
       "      <td>37.33</td>\n",
       "      <td>3</td>\n",
       "      <td>Yes</td>\n",
       "      <td>https://books.toscrape.com/media/cache/98/c2/9...</td>\n",
       "      <td>18-Jun-2022 19:04:35</td>\n",
       "    </tr>\n",
       "  </tbody>\n",
       "</table>\n",
       "</div>"
      ],
      "text/plain": [
       "                                                    Title   Genre  Price (£)  \\\n",
       "BookID                                                                         \n",
       "B1000                             It's Only the Himalayas  Travel      45.17   \n",
       "B1001   Full Moon over Noah’s Ark: An Odyssey to Mount...  Travel      49.43   \n",
       "B1002   See America: A Celebration of Our National Par...  Travel      48.87   \n",
       "B1003   Vagabonding: An Uncommon Guide to the Art of L...  Travel      36.94   \n",
       "B1004                                Under the Tuscan Sun  Travel      37.33   \n",
       "\n",
       "        Rating Stock Availability Status  \\\n",
       "BookID                                     \n",
       "B1000        2                       Yes   \n",
       "B1001        4                       Yes   \n",
       "B1002        3                       Yes   \n",
       "B1003        2                       Yes   \n",
       "B1004        3                       Yes   \n",
       "\n",
       "                                               Cover Page  \\\n",
       "BookID                                                      \n",
       "B1000   https://books.toscrape.com/media/cache/27/a5/2...   \n",
       "B1001   https://books.toscrape.com/media/cache/57/77/5...   \n",
       "B1002   https://books.toscrape.com/media/cache/9a/7e/9...   \n",
       "B1003   https://books.toscrape.com/media/cache/d5/bf/d...   \n",
       "B1004   https://books.toscrape.com/media/cache/98/c2/9...   \n",
       "\n",
       "       Last Update Timestamp (UTC)  \n",
       "BookID                              \n",
       "B1000         18-Jun-2022 19:04:35  \n",
       "B1001         18-Jun-2022 19:04:35  \n",
       "B1002         18-Jun-2022 19:04:35  \n",
       "B1003         18-Jun-2022 19:04:35  \n",
       "B1004         18-Jun-2022 19:04:35  "
      ]
     },
     "execution_count": 17,
     "metadata": {},
     "output_type": "execute_result"
    }
   ],
   "source": [
    "# create custom index column\n",
    "custom_index_col = pd.RangeIndex(start=1000, stop=1000+len(books), step=1, name='BookID')\n",
    "\n",
    "# add index column to dataframe\n",
    "books.index = custom_index_col\n",
    "books.index = 'B' + books.index.astype('string')\n",
    "\n",
    "# view glimpse of data\n",
    "books.head()"
   ]
  },
  {
   "cell_type": "markdown",
   "metadata": {},
   "source": [
    "After undergoing transformation, the data appears to be more organized with a clear index column and descriptive, user-friendly field names. We will now conduct a quick validation of the data prior to exporting it."
   ]
  },
  {
   "cell_type": "markdown",
   "metadata": {},
   "source": [
    "## Data Validation\n",
    "\n",
    "In this section, we will verify that the data meets certain quality standards and that all transformations and cleaning operations have been performed correctly.\n",
    "\n",
    "Data validation is important because it ensures that the data is accurate and reliable, and that it will not produce any errors or inconsistencies during analysis. By validating the data, we can ensure that the results of our analysis are trustworthy and that any insights we gain are based on accurate and complete data.\n",
    "\n",
    "Now that we have completed the data cleaning and transformation, it's time to thoroughly validate the data to ensure that it is ready for analysis and visualization. we will examine various columns and datatypes to confirm that all the data is accurate, complete, and consistent."
   ]
  },
  {
   "cell_type": "code",
   "execution_count": 18,
   "metadata": {},
   "outputs": [
    {
     "name": "stdout",
     "output_type": "stream",
     "text": [
      "<class 'pandas.core.frame.DataFrame'>\n",
      "Index: 1000 entries, B1000 to B1999\n",
      "Data columns (total 7 columns):\n",
      " #   Column                       Non-Null Count  Dtype  \n",
      "---  ------                       --------------  -----  \n",
      " 0   Title                        1000 non-null   object \n",
      " 1   Genre                        1000 non-null   object \n",
      " 2   Price (£)                    1000 non-null   float64\n",
      " 3   Rating                       1000 non-null   int64  \n",
      " 4   Stock Availability Status    1000 non-null   object \n",
      " 5   Cover Page                   1000 non-null   object \n",
      " 6   Last Update Timestamp (UTC)  1000 non-null   object \n",
      "dtypes: float64(1), int64(1), object(5)\n",
      "memory usage: 62.5+ KB\n"
     ]
    }
   ],
   "source": [
    "# basic info of dataframe\n",
    "books.info()"
   ]
  },
  {
   "cell_type": "code",
   "execution_count": 19,
   "metadata": {},
   "outputs": [
    {
     "data": {
      "text/html": [
       "<div>\n",
       "<style scoped>\n",
       "    .dataframe tbody tr th:only-of-type {\n",
       "        vertical-align: middle;\n",
       "    }\n",
       "\n",
       "    .dataframe tbody tr th {\n",
       "        vertical-align: top;\n",
       "    }\n",
       "\n",
       "    .dataframe thead th {\n",
       "        text-align: right;\n",
       "    }\n",
       "</style>\n",
       "<table border=\"1\" class=\"dataframe\">\n",
       "  <thead>\n",
       "    <tr style=\"text-align: right;\">\n",
       "      <th></th>\n",
       "      <th>Title</th>\n",
       "      <th>Genre</th>\n",
       "      <th>Price (£)</th>\n",
       "      <th>Rating</th>\n",
       "      <th>Stock Availability Status</th>\n",
       "      <th>Cover Page</th>\n",
       "      <th>Last Update Timestamp (UTC)</th>\n",
       "    </tr>\n",
       "    <tr>\n",
       "      <th>BookID</th>\n",
       "      <th></th>\n",
       "      <th></th>\n",
       "      <th></th>\n",
       "      <th></th>\n",
       "      <th></th>\n",
       "      <th></th>\n",
       "      <th></th>\n",
       "    </tr>\n",
       "  </thead>\n",
       "  <tbody>\n",
       "    <tr>\n",
       "      <th>B1933</th>\n",
       "      <td>Redeeming Love</td>\n",
       "      <td>Christian Fiction</td>\n",
       "      <td>20.47</td>\n",
       "      <td>5</td>\n",
       "      <td>Yes</td>\n",
       "      <td>https://books.toscrape.com/media/cache/21/21/2...</td>\n",
       "      <td>18-Jun-2022 19:05:58</td>\n",
       "    </tr>\n",
       "    <tr>\n",
       "      <th>B1394</th>\n",
       "      <td>Girl, Interrupted</td>\n",
       "      <td>Nonfiction</td>\n",
       "      <td>42.14</td>\n",
       "      <td>3</td>\n",
       "      <td>Yes</td>\n",
       "      <td>https://books.toscrape.com/media/cache/f9/ec/f...</td>\n",
       "      <td>18-Jun-2022 19:05:07</td>\n",
       "    </tr>\n",
       "    <tr>\n",
       "      <th>B1970</th>\n",
       "      <td>The Four Agreements: A Practical Guide to Pers...</td>\n",
       "      <td>Spirituality</td>\n",
       "      <td>17.66</td>\n",
       "      <td>5</td>\n",
       "      <td>Yes</td>\n",
       "      <td>https://books.toscrape.com/media/cache/0f/7e/0...</td>\n",
       "      <td>18-Jun-2022 19:06:04</td>\n",
       "    </tr>\n",
       "    <tr>\n",
       "      <th>B1230</th>\n",
       "      <td>The Murder That Never Was (Forensic Instincts #5)</td>\n",
       "      <td>Fiction</td>\n",
       "      <td>54.11</td>\n",
       "      <td>3</td>\n",
       "      <td>Yes</td>\n",
       "      <td>https://books.toscrape.com/media/cache/dc/44/d...</td>\n",
       "      <td>18-Jun-2022 19:04:53</td>\n",
       "    </tr>\n",
       "    <tr>\n",
       "      <th>B1678</th>\n",
       "      <td>Rogue Lawyer (Rogue Lawyer #1)</td>\n",
       "      <td>Add a comment</td>\n",
       "      <td>50.11</td>\n",
       "      <td>3</td>\n",
       "      <td>Yes</td>\n",
       "      <td>https://books.toscrape.com/media/cache/92/e4/9...</td>\n",
       "      <td>18-Jun-2022 19:05:31</td>\n",
       "    </tr>\n",
       "    <tr>\n",
       "      <th>B1178</th>\n",
       "      <td>Fifty Shades Darker (Fifty Shades #2)</td>\n",
       "      <td>Romance</td>\n",
       "      <td>21.96</td>\n",
       "      <td>1</td>\n",
       "      <td>Yes</td>\n",
       "      <td>https://books.toscrape.com/media/cache/cc/bd/c...</td>\n",
       "      <td>18-Jun-2022 19:04:49</td>\n",
       "    </tr>\n",
       "    <tr>\n",
       "      <th>B1244</th>\n",
       "      <td>I Am Pilgrim (Pilgrim #1)</td>\n",
       "      <td>Fiction</td>\n",
       "      <td>10.60</td>\n",
       "      <td>4</td>\n",
       "      <td>Yes</td>\n",
       "      <td>https://books.toscrape.com/media/cache/ed/07/e...</td>\n",
       "      <td>18-Jun-2022 19:04:53</td>\n",
       "    </tr>\n",
       "    <tr>\n",
       "      <th>B1564</th>\n",
       "      <td>Where'd You Go, Bernadette</td>\n",
       "      <td>Default</td>\n",
       "      <td>18.13</td>\n",
       "      <td>1</td>\n",
       "      <td>Yes</td>\n",
       "      <td>https://books.toscrape.com/media/cache/c6/7e/c...</td>\n",
       "      <td>18-Jun-2022 19:05:21</td>\n",
       "    </tr>\n",
       "    <tr>\n",
       "      <th>B1746</th>\n",
       "      <td>The Natural History of Us (The Fine Art of Pre...</td>\n",
       "      <td>Young Adult</td>\n",
       "      <td>45.22</td>\n",
       "      <td>3</td>\n",
       "      <td>Yes</td>\n",
       "      <td>https://books.toscrape.com/media/cache/5d/7f/5...</td>\n",
       "      <td>18-Jun-2022 19:05:38</td>\n",
       "    </tr>\n",
       "    <tr>\n",
       "      <th>B1909</th>\n",
       "      <td>The Love and Lemons Cookbook: An Apple-to-Zucc...</td>\n",
       "      <td>Food and Drink</td>\n",
       "      <td>37.60</td>\n",
       "      <td>2</td>\n",
       "      <td>Yes</td>\n",
       "      <td>https://books.toscrape.com/media/cache/0d/1f/0...</td>\n",
       "      <td>18-Jun-2022 19:05:55</td>\n",
       "    </tr>\n",
       "  </tbody>\n",
       "</table>\n",
       "</div>"
      ],
      "text/plain": [
       "                                                    Title              Genre  \\\n",
       "BookID                                                                         \n",
       "B1933                                      Redeeming Love  Christian Fiction   \n",
       "B1394                                   Girl, Interrupted         Nonfiction   \n",
       "B1970   The Four Agreements: A Practical Guide to Pers...       Spirituality   \n",
       "B1230   The Murder That Never Was (Forensic Instincts #5)            Fiction   \n",
       "B1678                      Rogue Lawyer (Rogue Lawyer #1)      Add a comment   \n",
       "B1178               Fifty Shades Darker (Fifty Shades #2)            Romance   \n",
       "B1244                           I Am Pilgrim (Pilgrim #1)            Fiction   \n",
       "B1564                          Where'd You Go, Bernadette            Default   \n",
       "B1746   The Natural History of Us (The Fine Art of Pre...        Young Adult   \n",
       "B1909   The Love and Lemons Cookbook: An Apple-to-Zucc...     Food and Drink   \n",
       "\n",
       "        Price (£)  Rating Stock Availability Status  \\\n",
       "BookID                                                \n",
       "B1933       20.47       5                       Yes   \n",
       "B1394       42.14       3                       Yes   \n",
       "B1970       17.66       5                       Yes   \n",
       "B1230       54.11       3                       Yes   \n",
       "B1678       50.11       3                       Yes   \n",
       "B1178       21.96       1                       Yes   \n",
       "B1244       10.60       4                       Yes   \n",
       "B1564       18.13       1                       Yes   \n",
       "B1746       45.22       3                       Yes   \n",
       "B1909       37.60       2                       Yes   \n",
       "\n",
       "                                               Cover Page  \\\n",
       "BookID                                                      \n",
       "B1933   https://books.toscrape.com/media/cache/21/21/2...   \n",
       "B1394   https://books.toscrape.com/media/cache/f9/ec/f...   \n",
       "B1970   https://books.toscrape.com/media/cache/0f/7e/0...   \n",
       "B1230   https://books.toscrape.com/media/cache/dc/44/d...   \n",
       "B1678   https://books.toscrape.com/media/cache/92/e4/9...   \n",
       "B1178   https://books.toscrape.com/media/cache/cc/bd/c...   \n",
       "B1244   https://books.toscrape.com/media/cache/ed/07/e...   \n",
       "B1564   https://books.toscrape.com/media/cache/c6/7e/c...   \n",
       "B1746   https://books.toscrape.com/media/cache/5d/7f/5...   \n",
       "B1909   https://books.toscrape.com/media/cache/0d/1f/0...   \n",
       "\n",
       "       Last Update Timestamp (UTC)  \n",
       "BookID                              \n",
       "B1933         18-Jun-2022 19:05:58  \n",
       "B1394         18-Jun-2022 19:05:07  \n",
       "B1970         18-Jun-2022 19:06:04  \n",
       "B1230         18-Jun-2022 19:04:53  \n",
       "B1678         18-Jun-2022 19:05:31  \n",
       "B1178         18-Jun-2022 19:04:49  \n",
       "B1244         18-Jun-2022 19:04:53  \n",
       "B1564         18-Jun-2022 19:05:21  \n",
       "B1746         18-Jun-2022 19:05:38  \n",
       "B1909         18-Jun-2022 19:05:55  "
      ]
     },
     "execution_count": 19,
     "metadata": {},
     "output_type": "execute_result"
    }
   ],
   "source": [
    "# review random data samples\n",
    "books.sample(10)"
   ]
  },
  {
   "cell_type": "markdown",
   "metadata": {},
   "source": [
    "After undergoing several cleaning and transformation steps, the dataset is now in a refined state, ready for analysis and visualization. To make the data easily accessible and available for future use, we will proceed by exporting the cleaned dataset in CSV file format as our next step."
   ]
  },
  {
   "cell_type": "markdown",
   "metadata": {},
   "source": [
    "## Data Export\n",
    "\n",
    "In this section, we will export the cleaned and transformed dataset as a CSV file, which can be easily loaded and used for further analysis and reporting."
   ]
  },
  {
   "cell_type": "code",
   "execution_count": 20,
   "metadata": {},
   "outputs": [],
   "source": [
    "# export data into CSV file\n",
    "books.to_csv(\"../03_DATA/books_data.csv\", encoding='utf-8', index_label='BookID')"
   ]
  },
  {
   "cell_type": "markdown",
   "metadata": {},
   "source": [
    "## Conclusion\n",
    "\n",
    "In this notebook, we imported the raw dataset scraped from [Books to Scrape](https://books.toscrape.com/) website amd we have we performed a comprehensive data cleaning and transformation process to prepare the data for analysis and visualization. The process was broken down into several sections, including Data Overview, Dataframe Details, Field Details, Data Cleaning Operations, Datatype Fixes, Data Transformation, Field Renaming, Custom Index Addition, and Data Validation.\n",
    "\n",
    "Throughout the cleaning and transformation process, we discovered the data was in good shape with no null values present and with appropriate datatypes. However, we performed several operations to ensure the data was in the desired format.\n",
    "\n",
    "With the data now in a clean and usable format, the next steps would be to perform analysis and visualization on the dataset to gain actionable insights. Additionally, an interactive dashboard using Power BI could be built to present the insights to a wider audience."
   ]
  },
  {
   "cell_type": "markdown",
   "metadata": {},
   "source": [
    "---"
   ]
  }
 ],
 "metadata": {
  "kernelspec": {
   "display_name": "Python 3 (ipykernel)",
   "language": "python",
   "name": "python3"
  },
  "language_info": {
   "codemirror_mode": {
    "name": "ipython",
    "version": 3
   },
   "file_extension": ".py",
   "mimetype": "text/x-python",
   "name": "python",
   "nbconvert_exporter": "python",
   "pygments_lexer": "ipython3",
   "version": "3.8.13"
  },
  "toc": {
   "base_numbering": 1,
   "nav_menu": {},
   "number_sections": false,
   "sideBar": true,
   "skip_h1_title": false,
   "title_cell": "Table of Contents",
   "title_sidebar": "Contents",
   "toc_cell": false,
   "toc_position": {},
   "toc_section_display": true,
   "toc_window_display": true
  },
  "vscode": {
   "interpreter": {
    "hash": "6f5583cf1d9466b5c27e75c89cc6b383bed5736d6b16c51c8074d8690011a952"
   }
  }
 },
 "nbformat": 4,
 "nbformat_minor": 4
}
